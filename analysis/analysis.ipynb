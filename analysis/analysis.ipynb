{
 "cells": [
  {
   "cell_type": "code",
   "execution_count": 2,
   "metadata": {},
   "outputs": [
    {
     "name": "stdout",
     "output_type": "stream",
     "text": [
      "The autoreload extension is already loaded. To reload it, use:\n",
      "  %reload_ext autoreload\n"
     ]
    }
   ],
   "source": [
    "%matplotlib inline\n",
    "%load_ext autoreload\n",
    "%autoreload 2\n",
    "\n",
    "import matplotlib.pyplot as plt\n",
    "import numpy as np\n",
    "from glob import glob\n",
    "import os\n",
    "\n",
    "import re\n",
    "from parser import parse_filename, natural_sort\n",
    "import pandas as pd\n",
    "\n",
    "from IPython import display\n",
    "import time\n",
    "import jax\n",
    "from jax.config import config\n",
    "config.update(\"jax_enable_x64\", True)\n",
    "import jax.numpy as jnp"
   ]
  },
  {
   "cell_type": "code",
   "execution_count": 111,
   "metadata": {},
   "outputs": [
    {
     "data": {
      "text/html": [
       "<div>\n",
       "<style scoped>\n",
       "    .dataframe tbody tr th:only-of-type {\n",
       "        vertical-align: middle;\n",
       "    }\n",
       "\n",
       "    .dataframe tbody tr th {\n",
       "        vertical-align: top;\n",
       "    }\n",
       "\n",
       "    .dataframe thead th {\n",
       "        text-align: right;\n",
       "    }\n",
       "</style>\n",
       "<table border=\"1\" class=\"dataframe\">\n",
       "  <thead>\n",
       "    <tr style=\"text-align: right;\">\n",
       "      <th></th>\n",
       "      <th>T</th>\n",
       "      <th>rs</th>\n",
       "      <th>etot</th>\n",
       "      <th>p</th>\n",
       "      <th>k</th>\n",
       "      <th>vtot</th>\n",
       "      <th>f</th>\n",
       "      <th>s</th>\n",
       "    </tr>\n",
       "  </thead>\n",
       "  <tbody>\n",
       "    <tr>\n",
       "      <th>0</th>\n",
       "      <td>1200</td>\n",
       "      <td>1.34</td>\n",
       "      <td>-0.51592</td>\n",
       "      <td>269.0</td>\n",
       "      <td>NaN</td>\n",
       "      <td>-1.3083</td>\n",
       "      <td>NaN</td>\n",
       "      <td>NaN</td>\n",
       "    </tr>\n",
       "    <tr>\n",
       "      <th>1</th>\n",
       "      <td>1200</td>\n",
       "      <td>1.35</td>\n",
       "      <td>-0.51813</td>\n",
       "      <td>257.7</td>\n",
       "      <td>NaN</td>\n",
       "      <td>NaN</td>\n",
       "      <td>NaN</td>\n",
       "      <td>NaN</td>\n",
       "    </tr>\n",
       "    <tr>\n",
       "      <th>2</th>\n",
       "      <td>1200</td>\n",
       "      <td>1.36</td>\n",
       "      <td>-0.51980</td>\n",
       "      <td>243.1</td>\n",
       "      <td>NaN</td>\n",
       "      <td>NaN</td>\n",
       "      <td>NaN</td>\n",
       "      <td>NaN</td>\n",
       "    </tr>\n",
       "    <tr>\n",
       "      <th>3</th>\n",
       "      <td>1200</td>\n",
       "      <td>1.37</td>\n",
       "      <td>-0.52200</td>\n",
       "      <td>232.5</td>\n",
       "      <td>NaN</td>\n",
       "      <td>NaN</td>\n",
       "      <td>NaN</td>\n",
       "      <td>NaN</td>\n",
       "    </tr>\n",
       "    <tr>\n",
       "      <th>4</th>\n",
       "      <td>1200</td>\n",
       "      <td>1.38</td>\n",
       "      <td>-0.52560</td>\n",
       "      <td>234.1</td>\n",
       "      <td>NaN</td>\n",
       "      <td>NaN</td>\n",
       "      <td>NaN</td>\n",
       "      <td>NaN</td>\n",
       "    </tr>\n",
       "    <tr>\n",
       "      <th>5</th>\n",
       "      <td>1200</td>\n",
       "      <td>1.39</td>\n",
       "      <td>-0.52700</td>\n",
       "      <td>224.0</td>\n",
       "      <td>NaN</td>\n",
       "      <td>NaN</td>\n",
       "      <td>NaN</td>\n",
       "      <td>NaN</td>\n",
       "    </tr>\n",
       "    <tr>\n",
       "      <th>6</th>\n",
       "      <td>1200</td>\n",
       "      <td>1.40</td>\n",
       "      <td>-0.53010</td>\n",
       "      <td>218.5</td>\n",
       "      <td>NaN</td>\n",
       "      <td>NaN</td>\n",
       "      <td>NaN</td>\n",
       "      <td>NaN</td>\n",
       "    </tr>\n",
       "    <tr>\n",
       "      <th>7</th>\n",
       "      <td>1200</td>\n",
       "      <td>1.41</td>\n",
       "      <td>-0.53175</td>\n",
       "      <td>206.9</td>\n",
       "      <td>NaN</td>\n",
       "      <td>NaN</td>\n",
       "      <td>NaN</td>\n",
       "      <td>NaN</td>\n",
       "    </tr>\n",
       "    <tr>\n",
       "      <th>8</th>\n",
       "      <td>1200</td>\n",
       "      <td>1.42</td>\n",
       "      <td>-0.53353</td>\n",
       "      <td>198.5</td>\n",
       "      <td>NaN</td>\n",
       "      <td>NaN</td>\n",
       "      <td>NaN</td>\n",
       "      <td>NaN</td>\n",
       "    </tr>\n",
       "    <tr>\n",
       "      <th>9</th>\n",
       "      <td>1200</td>\n",
       "      <td>1.43</td>\n",
       "      <td>-0.53540</td>\n",
       "      <td>189.5</td>\n",
       "      <td>NaN</td>\n",
       "      <td>NaN</td>\n",
       "      <td>NaN</td>\n",
       "      <td>NaN</td>\n",
       "    </tr>\n",
       "    <tr>\n",
       "      <th>10</th>\n",
       "      <td>1200</td>\n",
       "      <td>1.44</td>\n",
       "      <td>-0.53684</td>\n",
       "      <td>180.8</td>\n",
       "      <td>NaN</td>\n",
       "      <td>-1.3045</td>\n",
       "      <td>NaN</td>\n",
       "      <td>NaN</td>\n",
       "    </tr>\n",
       "    <tr>\n",
       "      <th>11</th>\n",
       "      <td>1500</td>\n",
       "      <td>1.40</td>\n",
       "      <td>-0.52450</td>\n",
       "      <td>198.7</td>\n",
       "      <td>NaN</td>\n",
       "      <td>NaN</td>\n",
       "      <td>NaN</td>\n",
       "      <td>NaN</td>\n",
       "    </tr>\n",
       "    <tr>\n",
       "      <th>12</th>\n",
       "      <td>1000</td>\n",
       "      <td>0.80</td>\n",
       "      <td>-0.05860</td>\n",
       "      <td>8116.0</td>\n",
       "      <td>1.8428</td>\n",
       "      <td>-1.9034</td>\n",
       "      <td>NaN</td>\n",
       "      <td>NaN</td>\n",
       "    </tr>\n",
       "    <tr>\n",
       "      <th>13</th>\n",
       "      <td>1000</td>\n",
       "      <td>1.00</td>\n",
       "      <td>-0.34800</td>\n",
       "      <td>1968.0</td>\n",
       "      <td>1.2176</td>\n",
       "      <td>-1.5657</td>\n",
       "      <td>NaN</td>\n",
       "      <td>NaN</td>\n",
       "    </tr>\n",
       "    <tr>\n",
       "      <th>14</th>\n",
       "      <td>1000</td>\n",
       "      <td>1.20</td>\n",
       "      <td>-0.46320</td>\n",
       "      <td>573.5</td>\n",
       "      <td>0.8858</td>\n",
       "      <td>-1.3468</td>\n",
       "      <td>NaN</td>\n",
       "      <td>NaN</td>\n",
       "    </tr>\n",
       "    <tr>\n",
       "      <th>15</th>\n",
       "      <td>10000</td>\n",
       "      <td>0.80</td>\n",
       "      <td>0.01600</td>\n",
       "      <td>8578.0</td>\n",
       "      <td>1.8886</td>\n",
       "      <td>-1.8934</td>\n",
       "      <td>NaN</td>\n",
       "      <td>NaN</td>\n",
       "    </tr>\n",
       "    <tr>\n",
       "      <th>16</th>\n",
       "      <td>10000</td>\n",
       "      <td>1.00</td>\n",
       "      <td>-0.28880</td>\n",
       "      <td>2295.0</td>\n",
       "      <td>1.2740</td>\n",
       "      <td>-1.5630</td>\n",
       "      <td>NaN</td>\n",
       "      <td>NaN</td>\n",
       "    </tr>\n",
       "    <tr>\n",
       "      <th>17</th>\n",
       "      <td>10000</td>\n",
       "      <td>1.20</td>\n",
       "      <td>-0.40360</td>\n",
       "      <td>734.0</td>\n",
       "      <td>0.9478</td>\n",
       "      <td>-1.3514</td>\n",
       "      <td>NaN</td>\n",
       "      <td>NaN</td>\n",
       "    </tr>\n",
       "    <tr>\n",
       "      <th>18</th>\n",
       "      <td>5000</td>\n",
       "      <td>1.00</td>\n",
       "      <td>-0.32620</td>\n",
       "      <td>2126.0</td>\n",
       "      <td>1.2390</td>\n",
       "      <td>-1.5652</td>\n",
       "      <td>NaN</td>\n",
       "      <td>NaN</td>\n",
       "    </tr>\n",
       "    <tr>\n",
       "      <th>19</th>\n",
       "      <td>10000</td>\n",
       "      <td>2.00</td>\n",
       "      <td>-0.50000</td>\n",
       "      <td>47.0</td>\n",
       "      <td>NaN</td>\n",
       "      <td>NaN</td>\n",
       "      <td>NaN</td>\n",
       "      <td>NaN</td>\n",
       "    </tr>\n",
       "    <tr>\n",
       "      <th>20</th>\n",
       "      <td>10000</td>\n",
       "      <td>2.60</td>\n",
       "      <td>-0.50400</td>\n",
       "      <td>11.7</td>\n",
       "      <td>NaN</td>\n",
       "      <td>NaN</td>\n",
       "      <td>NaN</td>\n",
       "      <td>NaN</td>\n",
       "    </tr>\n",
       "    <tr>\n",
       "      <th>21</th>\n",
       "      <td>6000</td>\n",
       "      <td>1.25</td>\n",
       "      <td>-0.45490</td>\n",
       "      <td>553.0</td>\n",
       "      <td>NaN</td>\n",
       "      <td>NaN</td>\n",
       "      <td>-0.5737</td>\n",
       "      <td>6.25</td>\n",
       "    </tr>\n",
       "  </tbody>\n",
       "</table>\n",
       "</div>"
      ],
      "text/plain": [
       "        T    rs     etot       p       k    vtot       f     s\n",
       "0    1200  1.34 -0.51592   269.0     NaN -1.3083     NaN   NaN\n",
       "1    1200  1.35 -0.51813   257.7     NaN     NaN     NaN   NaN\n",
       "2    1200  1.36 -0.51980   243.1     NaN     NaN     NaN   NaN\n",
       "3    1200  1.37 -0.52200   232.5     NaN     NaN     NaN   NaN\n",
       "4    1200  1.38 -0.52560   234.1     NaN     NaN     NaN   NaN\n",
       "5    1200  1.39 -0.52700   224.0     NaN     NaN     NaN   NaN\n",
       "6    1200  1.40 -0.53010   218.5     NaN     NaN     NaN   NaN\n",
       "7    1200  1.41 -0.53175   206.9     NaN     NaN     NaN   NaN\n",
       "8    1200  1.42 -0.53353   198.5     NaN     NaN     NaN   NaN\n",
       "9    1200  1.43 -0.53540   189.5     NaN     NaN     NaN   NaN\n",
       "10   1200  1.44 -0.53684   180.8     NaN -1.3045     NaN   NaN\n",
       "11   1500  1.40 -0.52450   198.7     NaN     NaN     NaN   NaN\n",
       "12   1000  0.80 -0.05860  8116.0  1.8428 -1.9034     NaN   NaN\n",
       "13   1000  1.00 -0.34800  1968.0  1.2176 -1.5657     NaN   NaN\n",
       "14   1000  1.20 -0.46320   573.5  0.8858 -1.3468     NaN   NaN\n",
       "15  10000  0.80  0.01600  8578.0  1.8886 -1.8934     NaN   NaN\n",
       "16  10000  1.00 -0.28880  2295.0  1.2740 -1.5630     NaN   NaN\n",
       "17  10000  1.20 -0.40360   734.0  0.9478 -1.3514     NaN   NaN\n",
       "18   5000  1.00 -0.32620  2126.0  1.2390 -1.5652     NaN   NaN\n",
       "19  10000  2.00 -0.50000    47.0     NaN     NaN     NaN   NaN\n",
       "20  10000  2.60 -0.50400    11.7     NaN     NaN     NaN   NaN\n",
       "21   6000  1.25 -0.45490   553.0     NaN     NaN -0.5737  6.25"
      ]
     },
     "execution_count": 111,
     "metadata": {},
     "output_type": "execute_result"
    }
   ],
   "source": [
    "ref_file = '../analysis/refs/pnas2016.csv'\n",
    "ref_df = pd.read_csv(ref_file, delimiter=r\"\\s+\")\n",
    "ref_df"
   ]
  },
  {
   "cell_type": "code",
   "execution_count": 124,
   "metadata": {},
   "outputs": [
    {
     "data": {
      "text/plain": [
       "2"
      ]
     },
     "execution_count": 124,
     "metadata": {},
     "output_type": "execute_result"
    }
   ],
   "source": [
    "T, rs = 6000, 1.25\n",
    "\n",
    "nicknames = [#'ff35520-r-fixk0-backflow', \n",
    "             #'ff35520-r-fixk0-backflow-pbc',\n",
    "             #'ff35520-r-fixk0-backflow-tabc-222',\n",
    "             #'ff35520-r-fixk0-backflow-tabc-222-learnf',\n",
    "             #'ff35520-r-fixk0-backflow-tabc-222-feature',\n",
    "             #'ff35520-r-fixk0-backflow-tabc-w', \n",
    "             #'ff35520-r-fixk0-backflow-tabc-123',\n",
    "             #'ff35520-r-fixk0-backflow-tabc-456',\n",
    "             #'ff35520-r-backflow-tabc-w-feature-learnf', \n",
    "             #'ff35520-r-fixk0-backflow-pbc-feature-learnf',\n",
    "             'ff35520-r-fixk0-backflow-tabc-w-feature-learnf',\n",
    "             #'ff35520-r-fixk0-backflow-tabc-b-feature-learnf',\n",
    "             #'ff35520-r-fixk0-backflow-tabc-w-zeroinit',\n",
    "             #'ff35520-r-fixk0-backflow-tabc-w-zeroinit-softplus'\n",
    "             #'walker-uniform-geminal-fixsr-logj-float64-decay-compact-123',\n",
    "             #'walker-uniform-geminal-fixsr-logj-float64-decay-compact-456'\n",
    "             ]\n",
    "             #'ff35520-r-fixk0-backflow-tabc-222-real',\n",
    "             #'ff35520-r-fixk0-backflow-tabc-bw']\n",
    "             #'ff35520-r-fixk0']#, 'ff35520', 'ff35520-r']\n",
    "#nicknames += ['walker-uniform-geminal-fixsr-logj-float64-decay-compact-baldereschi-trs-complex']#, 'walker-fermi-geminal']#, 'walker-uniform']#, 'bootstrap'] #'walker-uniform-jastrow-geminal']#, 'walker-yukawa-nobeta', 'walker-yukawa-nobeta-pretrain'] #, 'van', 'van-pretrain', 'van-pretrain-gelu',  'van-pretrain-unshare', 'van-pretrain-unshare-gelu'] #, 'van' ] #, 'walker', ]#, 'jastrow-tabc-rint-yukawa'] #'jastrow-yukawa',  'jastrow-uniform'] #, 'jastrow-tabc-rint-h2', 'jastrow-tabc-rint-yukawa-nobeta', 'jastrow-tabc-uniform', 'jastrow-tabc-rint-soft'] #, #, 'atom-positive-alpha', ] #'atom-exp-alpha'] #, #, 'atom-equivariant'] # 'atom']\n",
    "#nicknames += ['walker-uniform-geminal-fixsr-logj-float64-decay-compact-twist']\n",
    "#nicknames += ['walker-uniform-geminal-fixsr-logj-float64-decay-compact-bw']\n",
    "\n",
    "files = []\n",
    "for nickname in nicknames:\n",
    "    files += glob(\"../data/\"+nickname+\"/n_*_dim_3_rs_%g*_T_%g_*/data.txt\"%(rs, T))\n",
    "files = list(filter(lambda f: os.path.getsize(f)>100, files))\n",
    "files = natural_sort(files)\n",
    "#files = files[::-1]\n",
    "\n",
    "#files += ['/data/wanglei/hydrogen/walker-uniform-geminal/n_14_dim_3_rs_1.44_T_1200_fs_1_fd_3_fh1_64_fh2_16_wd_3_wh1_32_wh2_16_Nf_5_K_4_nk_7_Gmax_15_kappa_10_mctherm_10_mcsteps_100_500_mcwidth_0.02_0.04_lr_1_0.05_decay_0.01_damping_0.001_norm_0.001_clip_5_ws_1024_bs_8192_devices_8_accsteps_1/data.txt']\n",
    "#files += ['/data/wanglei/hydrogen/jastrow-tabc-rint-yukawa/n_14_dim_3_rs_1.2_T_10000_fs_1_fd_3_fh1_64_fh2_16_wd_3_wh1_32_wh2_16_Nf_5_K_4_Gmax_15_kappa_10_mctherm_10_mcsteps_100_100_mcwidth_0.03_0.03_lr_0.05_decay_0.01_damping_0.001_norm_0.001_clip_5_bs_1024_devices_1_accsteps_1/data.txt']\n",
    "#files += ['/data/wanglei/hydrogen/jastrow/n_54_dim_3_rs_1.44_T_1200_steps_1_depth_3_spsize_32_tpsize_16_Nf_5_K_4_Gmax_15_kappa_10_mctherm_10_mcsteps_50_mcstddev_0.02_lr_0.05_decay_0.01_damping_0.001_norm_0.001_clip_5_bs_256_devices_8_accsteps_4/data.txt']\n",
    "#files += ['/data/wanglei/hydrogen/jastrow/n_54_dim_3_rs_1.2_T_1000_steps_1_depth_3_spsize_32_tpsize_16_Nf_5_K_4_Gmax_15_kappa_10_mctherm_10_mcsteps_50_mcstddev_0.02_lr_0.05_decay_0.01_damping_0.001_norm_0.001_clip_5_bs_64_devices_1_accsteps_16/data.txt']\n",
    "#files += ['/data/wanglei/hydrogen/jastrow/n_14_dim_3_rs_1.2_T_1000_steps_1_depth_3_spsize_32_tpsize_16_Nf_5_K_8_Gmax_15_kappa_10_mctherm_10_mcsteps_50_mcstddev_0.05_lr_0.1_decay_0.01_damping_0.001_norm_0.001_clip_5_bs_1024_devices_1_accsteps_1/data.txt']\n",
    "len(files)"
   ]
  },
  {
   "cell_type": "code",
   "execution_count": 121,
   "metadata": {},
   "outputs": [
    {
     "data": {
      "text/plain": [
       "6"
      ]
     },
     "execution_count": 121,
     "metadata": {},
     "output_type": "execute_result"
    }
   ],
   "source": [
    "def cond(f):\n",
    "    n, dim, rs, T, s, fd, fh1, fh2, wd, wh1, wh2, b, a, lr, decay, eta, maxnorm, Nf, clip, K, w = parse_filename(f)\n",
    "    #return rs <1.46 and '_ht_' not in f and ('nk_19' in f) and ('mcsteps_100_400' in f) \n",
    "    #return ('mcsteps_100_500' in f or 'mcsteps_100_400' in f) \n",
    "    return rs == 1.0\n",
    "files = list(filter(cond , files))\n",
    "files = files[::-1]\n",
    "len(files)\n",
    "\n",
    "#files = [files[2], files[1]]\n",
    "#files = [files[0], files[2], files[1], files[3], files[4]]\n",
    "#files = files[-2:]"
   ]
  },
  {
   "cell_type": "code",
   "execution_count": 128,
   "metadata": {
    "scrolled": false
   },
   "outputs": [
    {
     "name": "stdout",
     "output_type": "stream",
     "text": [
      "../data/ff35520-r-fixk0-backflow-tabc-w-feature-learnf/n_16_dim_3_rs_1.25_T_6000_fs_1_fd_3_fh1_32_fh2_16_wd_3_wh1_32_wh2_16_Nf_5_K_1_nk_33_Gmax_15_kappa_10_mctherm_10_mcsteps_50_500_mcwidth_0.02_0.04_lr_1_1_decay_0.01_damping_0.001_0.001_norm_0.001_0.001_clip_5_alpha_0.1_ws_512_bs_4096_accsteps_1/data.txt 0.028501199999999942\n",
      "../data/ff35520-r-fixk0-backflow-tabc-w-feature-learnf/n_32_dim_3_rs_1.25_T_6000_fs_1_fd_3_fh1_32_fh2_16_wd_3_wh1_32_wh2_16_Nf_5_K_1_nk_33_Gmax_15_kappa_10_mctherm_10_mcsteps_50_500_mcwidth_0.02_0.04_lr_1_1_decay_0.01_damping_0.001_0.001_norm_0.001_0.001_clip_5_alpha_0.1_ws_512_bs_4096_accsteps_1/data.txt 0.028501199999999942\n"
     ]
    },
    {
     "data": {
      "text/plain": [
       "<matplotlib.legend.Legend at 0x2ce15d2e0>"
      ]
     },
     "execution_count": 128,
     "metadata": {},
     "output_type": "execute_result"
    },
    {
     "data": {
      "image/png": "[encoded data removed]",
      "text/plain": [
       "<Figure size 1080x720 with 1 Axes>"
      ]
     },
     "metadata": {
      "needs_background": "light"
     },
     "output_type": "display_data"
    }
   ],
   "source": [
    "obs = 'etot'\n",
    "\n",
    "markers = ['o', 's', 'D', '*', 'x', '^', '<', 'h', '>', 'd', 'X', 'v', 'h', '1']\n",
    "colors = ['C0', 'C1','C2', 'C3', 'C4', 'C6', 'C5', 'C7', 'C8', 'C9', 'C10', 'C11', 'C12', 'C13']\n",
    "\n",
    "plt.figure(figsize=(15,10))\n",
    "for f, marker, color in zip(files, markers, colors):\n",
    "    n, dim, rs, T, s, fd, fh1, fh2, wd, wh1, wh2, b, a, lr, decay, eta, maxnorm, Nf, clip, K, w = parse_filename(f)\n",
    "      \n",
    "    Kp = 0.75*T/157888.088922572 # proton kinetic energy in Ry \n",
    "    \n",
    "    print (f, Kp)\n",
    "    df = pd.read_csv(f, delimiter=r\"\\s+\")\n",
    "    label = r'$n=%s,dim=%s,r_s=%s,T=%g,s=%s,fd=%s,fh_1=%s,fh_2=%s,wd=%s,wh_1=%s,wh_2=%s,Nf=%s,K=%s,b=%sx%s,lr=%s,decay=%s,eta=%s,nrm=%s,clip=%s, walkers=%s$'\\\n",
    "                %(n,dim,rs,T,s,fd,fh1,fh2,wd,wh1,wh2,Nf,K,b,a,lr,decay,eta,maxnorm,clip,w)\n",
    "  \n",
    "    if obs == 'vtot':\n",
    "        y = df['vpp'].values + df['vep'].values + df['vee'].values\n",
    "        yerr = np.sqrt(df['vpp_err'].values**2 + df['vep_err'].values**2 + df['vee_err'].values**2)       \n",
    "    elif obs == 'etot':\n",
    "        y = df['e'].values + df['vpp'].values + Kp\n",
    "        yerr = np.sqrt(df['e_err'].values**2 + df['vpp_err'].values**2)\n",
    "    elif obs in ['acc_s', 'acc_x']:\n",
    "        y = df[obs].values\n",
    "        yerr = np.zeros_like(y)\n",
    "    elif obs == 'p':\n",
    "        L = (4/3*jnp.pi*n)**(1/3)\n",
    "        y = df[obs].values + (2*Kp)/(3*(L*rs)**3)*14710.513242194795\n",
    "        yerr = df[obs+'_err'].values\n",
    "    else:\n",
    "        y, yerr = df[obs].values, df[obs+'_err'].values\n",
    "    \n",
    "    #L = (4/3*np.pi*n)**(1/3)\n",
    "    #y -= ( jax.scipy.special.gammaln(n+1)/n + dim*np.log(L) )\n",
    "\n",
    "    try:\n",
    "        ref_value = ref_df.query('(T==%g) & (rs==%g)'%(T, rs))[obs].values[0]\n",
    "        if obs in ['etot', 'k', 'vtot', 'f']: ref_value = 2*ref_value \n",
    "        plt.axhline(y=ref_value, color='r')\n",
    "        #y = (y-ref_value)/np.abs(ref_value) \n",
    "          \n",
    "    except (KeyError , IndexError):\n",
    "        print ('no ref data')\n",
    "        \n",
    "    plt.errorbar(df['epoch'].values, y, yerr=yerr,\n",
    "                 marker=marker, color=color,markerfacecolor='none', \n",
    "                 markeredgewidth=2, ms=8, capsize=8, label=label)\n",
    "\n",
    "    #if obs == 'p': plt.ylim([100, 400])\n",
    "    #if obs in ['f', 'etot', 'e', 'vtot']: plt.ylim([1, 2])\n",
    "\n",
    "plt.ylabel(obs)\n",
    "plt.xlabel('epochs')\n",
    "plt.xlim([1, 1e5])\n",
    "plt.xscale('log') \n",
    "#plt.yscale('log') \n",
    "plt.legend(loc='upper left')\n",
    "#plt.ylim([-20, 20])\n",
    "#plt.ylim([-1.1, -0.])\n",
    "#plt.ylim([-50, 50])\n",
    "#plt.axhline(y=200, color='r')\n",
    "#plt.axhline(y=-0.5737, color='r')\n",
    "#plt.axvline(x=346, color='r')"
   ]
  },
  {
   "cell_type": "code",
   "execution_count": 10,
   "metadata": {},
   "outputs": [],
   "source": [
    "import sys, os\n",
    "sys.path.append(\"../src\")\n",
    "from checkpoint import find_ckpt_filename, load_data"
   ]
  },
  {
   "cell_type": "code",
   "execution_count": 88,
   "metadata": {
    "scrolled": true
   },
   "outputs": [
    {
     "name": "stderr",
     "output_type": "stream",
     "text": [
      "WARNING:matplotlib.legend:No artists with labels found to put in legend.  Note that artists whose label start with an underscore are ignored when legend() is called with no argument.\n",
      "WARNING:matplotlib.legend:No artists with labels found to put in legend.  Note that artists whose label start with an underscore are ignored when legend() is called with no argument.\n",
      "WARNING:matplotlib.legend:No artists with labels found to put in legend.  Note that artists whose label start with an underscore are ignored when legend() is called with no argument.\n"
     ]
    },
    {
     "data": {
      "text/plain": [
       "<matplotlib.legend.Legend at 0x2caab3fa0>"
      ]
     },
     "execution_count": 88,
     "metadata": {},
     "output_type": "execute_result"
    },
    {
     "data": {
      "image/png": "[encoded data removed]",
      "text/plain": [
       "<Figure size 1152x576 with 3 Axes>"
      ]
     },
     "metadata": {
      "needs_background": "light"
     },
     "output_type": "display_data"
    }
   ],
   "source": [
    "def get_gr(x, y): \n",
    "    batchsize, n, dim = x.shape[0], x.shape[1], x.shape[2]\n",
    "    \n",
    "    if dim == 3:\n",
    "        L = (4/3*np.pi*n)**(1/3)\n",
    "    elif dim == 2:\n",
    "        L = np.sqrt(jnp.pi*n)\n",
    "        \n",
    "    i,j = np.triu_indices(n, k=1)\n",
    "    rij = (np.reshape(x, (-1, n, 1, dim)) - np.reshape(y, (-1, 1, n, dim)))[:,i,j]\n",
    "    rij = rij - L*np.rint(rij/L)\n",
    "    dist = np.linalg.norm(rij, axis=-1) # (batchsize, n*(n-1)/2)\n",
    "   \n",
    "    hist, bin_edges = np.histogram(dist.reshape(-1,), range=[0, L/2], bins=100)\n",
    "    dr = bin_edges[1] - bin_edges[0]\n",
    "    hist = hist*2/(n * batchsize)\n",
    "\n",
    "    rmesh = np.arange(hist.shape[0])*dr\n",
    "    \n",
    "    h_id = 4/3*np.pi*n/(L**3)* ((rmesh+dr)**3 - rmesh**3 )\n",
    "    return rmesh*rs, hist/h_id\n",
    "\n",
    "fig = plt.figure(figsize=(16, 8))\n",
    "ax1 = plt.subplot(131)\n",
    "ax2 = plt.subplot(132)\n",
    "ax3 = plt.subplot(133)\n",
    "\n",
    "for f in files:\n",
    "    \n",
    "    n, dim, rs, T, s, fd, fh1, fh2, wd, wh1, wh2, b, a, lr, decay, eta, maxnorm, Nf, clip, K, w = parse_filename(f)\n",
    "    \n",
    "    ckpt_file, _ = find_ckpt_filename(os.path.dirname(f))\n",
    "    ckpt_files = [ckpt_file]\n",
    "    \n",
    "    #path = os.path.dirname(f)\n",
    "    #ckpt_files = [os.path.join(path, f) for f in os.listdir(path) if ('pkl' in f)]\n",
    "    \n",
    "    for ckpt_file in ckpt_files:\n",
    "        if ckpt_file is None: continue\n",
    "        print (ckpt_file)\n",
    "        data = load_data(ckpt_file)\n",
    "    \n",
    "        s, x = data['s'], data['x']\n",
    "        \n",
    "        n, dim = x.shape[-2], x.shape[-1]\n",
    "        s = s.reshape(-1, n, dim)\n",
    "        x = x.reshape(-1, n, dim)\n",
    "        \n",
    "        walkersize, batchsize = s.shape[0], x.shape[0]\n",
    "        if (walkersize != batchsize):\n",
    "            s = jnp.repeat(s, batchsize//walkersize, 0)\n",
    "\n",
    "        rmesh, gr = get_gr(s, s)\n",
    "        ax1.plot(rmesh, gr, label=r'$pp, rs=%g,n = %g$'%(rs, n))\n",
    "        #rmesh, gr = get_gr(x, x)\n",
    "        #ax1.plot(rmesh, gr, label=r'$ee, rs=%g$'%rs)\n",
    "  \n",
    "        rmesh, gr = get_gr(s, x)\n",
    "        ax2.plot(rmesh, gr, label=r'$ep, rs=%g$'%rs) \n",
    "        \n",
    "        #ax1.set_yscale('log') \n",
    "        #ax1.plot(rmesh, 3*np.exp(-rmesh))\n",
    "            \n",
    "        rmesh, gr = get_gr(x[:, :n//2], x[:, n//2:])\n",
    "        ax3.plot(rmesh, gr, label=r'$\\uparrow\\downarrow, rs=%g$'%rs)\n",
    "        rmesh, gr = get_gr(x[:, :n//2], x[:, :n//2])\n",
    "        ax3.plot(rmesh, gr, label=r'$\\uparrow\\uparrow$, rs=%g'%rs)\n",
    "        rmesh, gr = get_gr(x[:, n//2:], x[:, n//2:])\n",
    "        ax3.plot(rmesh, gr, label=r'$\\downarrow\\downarrow$, rs=%g'%rs)\n",
    "        \n",
    "        #ax2.set_yscale('log') \n",
    " \n",
    "ax1.set_xlabel('$r(a.u.)$')\n",
    "ax1.set_ylabel('g(r)')\n",
    "ax1.legend()\n",
    "ax2.legend()\n",
    "ax3.legend()   "
   ]
  },
  {
   "cell_type": "code",
   "execution_count": 1574,
   "metadata": {},
   "outputs": [
    {
     "name": "stdout",
     "output_type": "stream",
     "text": [
      "/data/wanglei/hydrogen/ff35520-r-fixk0-backflow-tabc-w-feature-learnf/n_16_dim_3_rs_1.34_T_1200_fs_1_fd_3_fh1_32_fh2_16_wd_3_wh1_32_wh2_16_Nf_5_K_1_nk_33_Gmax_15_kappa_10_mctherm_10_mcsteps_50_500_mcwidth_0.02_0.04_lr_1_1_decay_0.01_damping_0.001_0.001_norm_0.001_0.001_clip_5_alpha_0.1_ws_512_bs_4096_accsteps_1/epoch_001809.pkl\n"
     ]
    },
    {
     "ename": "KeyboardInterrupt",
     "evalue": "",
     "output_type": "error",
     "traceback": [
      "\u001b[0;31m---------------------------------------------------------------------------\u001b[0m",
      "\u001b[0;31mKeyboardInterrupt\u001b[0m                         Traceback (most recent call last)",
      "\u001b[0;32m/tmp/ipykernel_209018/1496297194.py\u001b[0m in \u001b[0;36m<module>\u001b[0;34m\u001b[0m\n\u001b[1;32m     15\u001b[0m     \u001b[0ms\u001b[0m \u001b[0;34m=\u001b[0m \u001b[0ms\u001b[0m\u001b[0;34m.\u001b[0m\u001b[0mreshape\u001b[0m\u001b[0;34m(\u001b[0m\u001b[0;34m-\u001b[0m\u001b[0;36m1\u001b[0m\u001b[0;34m,\u001b[0m \u001b[0mn\u001b[0m\u001b[0;34m,\u001b[0m \u001b[0mdim\u001b[0m\u001b[0;34m)\u001b[0m\u001b[0;34m\u001b[0m\u001b[0;34m\u001b[0m\u001b[0m\n\u001b[1;32m     16\u001b[0m \u001b[0;34m\u001b[0m\u001b[0m\n\u001b[0;32m---> 17\u001b[0;31m     \u001b[0mscf\u001b[0m \u001b[0;34m=\u001b[0m \u001b[0;34m[\u001b[0m\u001b[0mHydrogen\u001b[0m\u001b[0;34m(\u001b[0m\u001b[0mrs\u001b[0m \u001b[0;34m*\u001b[0m \u001b[0mL\u001b[0m\u001b[0;34m,\u001b[0m \u001b[0mrs\u001b[0m \u001b[0;34m*\u001b[0m \u001b[0mnp\u001b[0m\u001b[0;34m.\u001b[0m\u001b[0marray\u001b[0m\u001b[0;34m(\u001b[0m\u001b[0mp\u001b[0m\u001b[0;34m)\u001b[0m\u001b[0;34m)\u001b[0m \u001b[0;32mfor\u001b[0m \u001b[0mp\u001b[0m \u001b[0;32min\u001b[0m \u001b[0ms\u001b[0m\u001b[0;34m[\u001b[0m\u001b[0;34m:\u001b[0m\u001b[0mwalkersize\u001b[0m\u001b[0;34m]\u001b[0m\u001b[0;34m]\u001b[0m\u001b[0;34m\u001b[0m\u001b[0;34m\u001b[0m\u001b[0m\n\u001b[0m\u001b[1;32m     18\u001b[0m \u001b[0;34m\u001b[0m\u001b[0m\n\u001b[1;32m     19\u001b[0m     \u001b[0mK\u001b[0m \u001b[0;34m=\u001b[0m \u001b[0mnp\u001b[0m\u001b[0;34m.\u001b[0m\u001b[0marray\u001b[0m\u001b[0;34m(\u001b[0m\u001b[0;34m[\u001b[0m\u001b[0mscf\u001b[0m\u001b[0;34m[\u001b[0m\u001b[0mw\u001b[0m\u001b[0;34m]\u001b[0m\u001b[0;34m.\u001b[0m\u001b[0mK\u001b[0m\u001b[0;34m(\u001b[0m\u001b[0;34m)\u001b[0m\u001b[0;34m/\u001b[0m\u001b[0mn\u001b[0m \u001b[0;32mfor\u001b[0m \u001b[0mw\u001b[0m \u001b[0;32min\u001b[0m \u001b[0mrange\u001b[0m\u001b[0;34m(\u001b[0m\u001b[0mwalkersize\u001b[0m\u001b[0;34m)\u001b[0m\u001b[0;34m]\u001b[0m\u001b[0;34m)\u001b[0m\u001b[0;34m\u001b[0m\u001b[0;34m\u001b[0m\u001b[0m\n",
      "\u001b[0;32m/tmp/ipykernel_209018/1496297194.py\u001b[0m in \u001b[0;36m<listcomp>\u001b[0;34m(.0)\u001b[0m\n\u001b[1;32m     15\u001b[0m     \u001b[0ms\u001b[0m \u001b[0;34m=\u001b[0m \u001b[0ms\u001b[0m\u001b[0;34m.\u001b[0m\u001b[0mreshape\u001b[0m\u001b[0;34m(\u001b[0m\u001b[0;34m-\u001b[0m\u001b[0;36m1\u001b[0m\u001b[0;34m,\u001b[0m \u001b[0mn\u001b[0m\u001b[0;34m,\u001b[0m \u001b[0mdim\u001b[0m\u001b[0;34m)\u001b[0m\u001b[0;34m\u001b[0m\u001b[0;34m\u001b[0m\u001b[0m\n\u001b[1;32m     16\u001b[0m \u001b[0;34m\u001b[0m\u001b[0m\n\u001b[0;32m---> 17\u001b[0;31m     \u001b[0mscf\u001b[0m \u001b[0;34m=\u001b[0m \u001b[0;34m[\u001b[0m\u001b[0mHydrogen\u001b[0m\u001b[0;34m(\u001b[0m\u001b[0mrs\u001b[0m \u001b[0;34m*\u001b[0m \u001b[0mL\u001b[0m\u001b[0;34m,\u001b[0m \u001b[0mrs\u001b[0m \u001b[0;34m*\u001b[0m \u001b[0mnp\u001b[0m\u001b[0;34m.\u001b[0m\u001b[0marray\u001b[0m\u001b[0;34m(\u001b[0m\u001b[0mp\u001b[0m\u001b[0;34m)\u001b[0m\u001b[0;34m)\u001b[0m \u001b[0;32mfor\u001b[0m \u001b[0mp\u001b[0m \u001b[0;32min\u001b[0m \u001b[0ms\u001b[0m\u001b[0;34m[\u001b[0m\u001b[0;34m:\u001b[0m\u001b[0mwalkersize\u001b[0m\u001b[0;34m]\u001b[0m\u001b[0;34m]\u001b[0m\u001b[0;34m\u001b[0m\u001b[0;34m\u001b[0m\u001b[0m\n\u001b[0m\u001b[1;32m     18\u001b[0m \u001b[0;34m\u001b[0m\u001b[0m\n\u001b[1;32m     19\u001b[0m     \u001b[0mK\u001b[0m \u001b[0;34m=\u001b[0m \u001b[0mnp\u001b[0m\u001b[0;34m.\u001b[0m\u001b[0marray\u001b[0m\u001b[0;34m(\u001b[0m\u001b[0;34m[\u001b[0m\u001b[0mscf\u001b[0m\u001b[0;34m[\u001b[0m\u001b[0mw\u001b[0m\u001b[0;34m]\u001b[0m\u001b[0;34m.\u001b[0m\u001b[0mK\u001b[0m\u001b[0;34m(\u001b[0m\u001b[0;34m)\u001b[0m\u001b[0;34m/\u001b[0m\u001b[0mn\u001b[0m \u001b[0;32mfor\u001b[0m \u001b[0mw\u001b[0m \u001b[0;32min\u001b[0m \u001b[0mrange\u001b[0m\u001b[0;34m(\u001b[0m\u001b[0mwalkersize\u001b[0m\u001b[0;34m)\u001b[0m\u001b[0;34m]\u001b[0m\u001b[0;34m)\u001b[0m\u001b[0;34m\u001b[0m\u001b[0;34m\u001b[0m\u001b[0m\n",
      "\u001b[0;32m~/hydrogen/src/hf.py\u001b[0m in \u001b[0;36m__init__\u001b[0;34m(self, length, position_nuc)\u001b[0m\n\u001b[1;32m     26\u001b[0m         \u001b[0mself\u001b[0m\u001b[0;34m.\u001b[0m\u001b[0mcell\u001b[0m\u001b[0;34m.\u001b[0m\u001b[0ma\u001b[0m \u001b[0;34m=\u001b[0m \u001b[0mnp\u001b[0m\u001b[0;34m.\u001b[0m\u001b[0meye\u001b[0m\u001b[0;34m(\u001b[0m\u001b[0;36m3\u001b[0m\u001b[0;34m)\u001b[0m \u001b[0;34m*\u001b[0m \u001b[0mlength\u001b[0m\u001b[0;34m\u001b[0m\u001b[0;34m\u001b[0m\u001b[0m\n\u001b[1;32m     27\u001b[0m         \u001b[0mself\u001b[0m\u001b[0;34m.\u001b[0m\u001b[0mcell\u001b[0m\u001b[0;34m.\u001b[0m\u001b[0mprecision\u001b[0m \u001b[0;34m=\u001b[0m \u001b[0;36m1e-5\u001b[0m\u001b[0;34m\u001b[0m\u001b[0;34m\u001b[0m\u001b[0m\n\u001b[0;32m---> 28\u001b[0;31m         \u001b[0mself\u001b[0m\u001b[0;34m.\u001b[0m\u001b[0mcell\u001b[0m\u001b[0;34m.\u001b[0m\u001b[0mbuild\u001b[0m\u001b[0;34m(\u001b[0m\u001b[0;34m)\u001b[0m\u001b[0;34m\u001b[0m\u001b[0;34m\u001b[0m\u001b[0m\n\u001b[0m\u001b[1;32m     29\u001b[0m \u001b[0;34m\u001b[0m\u001b[0m\n\u001b[1;32m     30\u001b[0m         \u001b[0;31m# gamma point [0, 0, 0] (unit: reciprocal lattice vector, 2*pi/length)\u001b[0m\u001b[0;34m\u001b[0m\u001b[0;34m\u001b[0m\u001b[0m\n",
      "\u001b[0;32m~/.local/lib/python3.9/site-packages/pyscf/pbc/gto/cell.py\u001b[0m in \u001b[0;36mbuild\u001b[0;34m(self, dump_input, parse_arg, a, mesh, ke_cutoff, precision, nimgs, pseudo, basis, h, dimension, rcut, ecp, low_dim_ft_type, *args, **kwargs)\u001b[0m\n\u001b[1;32m   1276\u001b[0m         \u001b[0;31m# Do regular Mole.build\u001b[0m\u001b[0;34m\u001b[0m\u001b[0;34m\u001b[0m\u001b[0m\n\u001b[1;32m   1277\u001b[0m         \u001b[0m_built\u001b[0m \u001b[0;34m=\u001b[0m \u001b[0mself\u001b[0m\u001b[0;34m.\u001b[0m\u001b[0m_built\u001b[0m\u001b[0;34m\u001b[0m\u001b[0;34m\u001b[0m\u001b[0m\n\u001b[0;32m-> 1278\u001b[0;31m         \u001b[0mmole\u001b[0m\u001b[0;34m.\u001b[0m\u001b[0mMole\u001b[0m\u001b[0;34m.\u001b[0m\u001b[0mbuild\u001b[0m\u001b[0;34m(\u001b[0m\u001b[0mself\u001b[0m\u001b[0;34m,\u001b[0m \u001b[0;32mFalse\u001b[0m\u001b[0;34m,\u001b[0m \u001b[0mparse_arg\u001b[0m\u001b[0;34m,\u001b[0m \u001b[0;34m*\u001b[0m\u001b[0margs\u001b[0m\u001b[0;34m,\u001b[0m \u001b[0;34m**\u001b[0m\u001b[0mkwargs\u001b[0m\u001b[0;34m)\u001b[0m\u001b[0;34m\u001b[0m\u001b[0;34m\u001b[0m\u001b[0m\n\u001b[0m\u001b[1;32m   1279\u001b[0m \u001b[0;34m\u001b[0m\u001b[0m\n\u001b[1;32m   1280\u001b[0m         \u001b[0mexp_min\u001b[0m \u001b[0;34m=\u001b[0m \u001b[0mnp\u001b[0m\u001b[0;34m.\u001b[0m\u001b[0marray\u001b[0m\u001b[0;34m(\u001b[0m\u001b[0;34m[\u001b[0m\u001b[0mself\u001b[0m\u001b[0;34m.\u001b[0m\u001b[0mbas_exp\u001b[0m\u001b[0;34m(\u001b[0m\u001b[0mib\u001b[0m\u001b[0;34m)\u001b[0m\u001b[0;34m.\u001b[0m\u001b[0mmin\u001b[0m\u001b[0;34m(\u001b[0m\u001b[0;34m)\u001b[0m \u001b[0;32mfor\u001b[0m \u001b[0mib\u001b[0m \u001b[0;32min\u001b[0m \u001b[0mrange\u001b[0m\u001b[0;34m(\u001b[0m\u001b[0mself\u001b[0m\u001b[0;34m.\u001b[0m\u001b[0mnbas\u001b[0m\u001b[0;34m)\u001b[0m\u001b[0;34m]\u001b[0m\u001b[0;34m)\u001b[0m\u001b[0;34m\u001b[0m\u001b[0;34m\u001b[0m\u001b[0m\n",
      "\u001b[0;32m~/.local/lib/python3.9/site-packages/pyscf/gto/mole.py\u001b[0m in \u001b[0;36mbuild\u001b[0;34m(self, dump_input, parse_arg, verbose, output, max_memory, atom, basis, unit, nucmod, ecp, charge, spin, symmetry, symmetry_subgroup, cart)\u001b[0m\n\u001b[1;32m   2315\u001b[0m         '''\n\u001b[1;32m   2316\u001b[0m         \u001b[0;32mif\u001b[0m \u001b[0;32mnot\u001b[0m \u001b[0mDISABLE_GC\u001b[0m\u001b[0;34m:\u001b[0m\u001b[0;34m\u001b[0m\u001b[0;34m\u001b[0m\u001b[0m\n\u001b[0;32m-> 2317\u001b[0;31m             \u001b[0mgc\u001b[0m\u001b[0;34m.\u001b[0m\u001b[0mcollect\u001b[0m\u001b[0;34m(\u001b[0m\u001b[0;34m)\u001b[0m  \u001b[0;31m# To release circular referred objects\u001b[0m\u001b[0;34m\u001b[0m\u001b[0;34m\u001b[0m\u001b[0m\n\u001b[0m\u001b[1;32m   2318\u001b[0m \u001b[0;34m\u001b[0m\u001b[0m\n\u001b[1;32m   2319\u001b[0m         \u001b[0;32mif\u001b[0m \u001b[0misinstance\u001b[0m\u001b[0;34m(\u001b[0m\u001b[0mdump_input\u001b[0m\u001b[0;34m,\u001b[0m \u001b[0;34m(\u001b[0m\u001b[0mstr\u001b[0m\u001b[0;34m,\u001b[0m \u001b[0municode\u001b[0m\u001b[0;34m)\u001b[0m\u001b[0;34m)\u001b[0m\u001b[0;34m:\u001b[0m\u001b[0;34m\u001b[0m\u001b[0;34m\u001b[0m\u001b[0m\n",
      "\u001b[0;31mKeyboardInterrupt\u001b[0m: "
     ]
    }
   ],
   "source": [
    "from hf import Hydrogen\n",
    "\n",
    "f = '/data/wanglei/hydrogen/ff35520-r-fixk0-backflow-tabc-w-feature-learnf/n_16_dim_3_rs_1.34_T_1200_fs_1_fd_3_fh1_32_fh2_16_wd_3_wh1_32_wh2_16_Nf_5_K_1_nk_33_Gmax_15_kappa_10_mctherm_10_mcsteps_50_500_mcwidth_0.02_0.04_lr_1_1_decay_0.01_damping_0.001_0.001_norm_0.001_0.001_clip_5_alpha_0.1_ws_512_bs_4096_accsteps_1/data.txt'\n",
    "\n",
    "walkersize = 8\n",
    "if True:\n",
    "    n, dim, rs, T, s, fd, fh1, fh2, wd, wh1, wh2, b, a, lr, decay, eta, maxnorm, Nf, clip, K, w = parse_filename(f)\n",
    "    ckpt_file, _ = find_ckpt_filename(os.path.dirname(f))\n",
    " \n",
    "    print (ckpt_file)\n",
    "    data = load_data(ckpt_file)\n",
    "    s = data['s']\n",
    "        \n",
    "    n, dim = x.shape[-2], x.shape[-1]\n",
    "    s = s.reshape(-1, n, dim)\n",
    "        \n",
    "    scf = [Hydrogen(rs * L, rs * np.array(p)) for p in s[:walkersize]]\n",
    "    \n",
    "    K = np.array([scf[w].K()/n for w in range(walkersize)])\n",
    "    Vep = np.array([scf[w].Vep()/n for w in range(walkersize)])\n",
    "    Vee = np.array([scf[w].Vee()/n for w in range(walkersize)])\n",
    "    Vpp = np.array([scf[w].Vpp()/n for w in range(walkersize)])\n",
    "    E_elec = np.array([scf[w].E_elec()/n for w in range(walkersize)])\n",
    "    E = np.array([scf[w].E()/n for w in range(walkersize)])\n",
    "    print ('kinetic energy', K, K.mean(), K.std()/np.sqrt(walkersize))\n",
    "    print ('Vep', Vep,  Vep.mean(), Vep.std()/np.sqrt(walkersize))\n",
    "    print ('Vee', Vee,  Vee.mean(), Vee.std()/np.sqrt(walkersize))\n",
    "    print ('Vpp', Vpp,  Vpp.mean(), Vpp.std()/np.sqrt(walkersize))\n",
    "    print ('electron energy', E_elec,  E_elec.mean(), E_elec.std()/np.sqrt(walkersize))\n",
    "    print ('total energy', E,  E.mean(), E.std()/np.sqrt(walkersize))\n",
    "    "
   ]
  },
  {
   "cell_type": "code",
   "execution_count": 1286,
   "metadata": {},
   "outputs": [
    {
     "ename": "IndexError",
     "evalue": "list index out of range",
     "output_type": "error",
     "traceback": [
      "\u001b[0;31m---------------------------------------------------------------------------\u001b[0m",
      "\u001b[0;31mIndexError\u001b[0m                                Traceback (most recent call last)",
      "\u001b[0;32m/tmp/ipykernel_209018/2213033586.py\u001b[0m in \u001b[0;36m<module>\u001b[0;34m\u001b[0m\n\u001b[0;32m----> 1\u001b[0;31m \u001b[0mfiles\u001b[0m \u001b[0;34m=\u001b[0m \u001b[0;34m[\u001b[0m\u001b[0mfiles\u001b[0m\u001b[0;34m[\u001b[0m\u001b[0;36m2\u001b[0m\u001b[0;34m]\u001b[0m\u001b[0;34m]\u001b[0m\u001b[0;34m\u001b[0m\u001b[0;34m\u001b[0m\u001b[0m\n\u001b[0m\u001b[1;32m      2\u001b[0m \u001b[0mobs\u001b[0m \u001b[0;34m=\u001b[0m \u001b[0;34m'f'\u001b[0m\u001b[0;34m\u001b[0m\u001b[0;34m\u001b[0m\u001b[0m\n\u001b[1;32m      3\u001b[0m \u001b[0mmarkers\u001b[0m \u001b[0;34m=\u001b[0m \u001b[0;34m[\u001b[0m\u001b[0;34m'o'\u001b[0m\u001b[0;34m,\u001b[0m \u001b[0;34m's'\u001b[0m\u001b[0;34m,\u001b[0m \u001b[0;34m'D'\u001b[0m\u001b[0;34m,\u001b[0m \u001b[0;34m'*'\u001b[0m\u001b[0;34m,\u001b[0m \u001b[0;34m'x'\u001b[0m\u001b[0;34m,\u001b[0m \u001b[0;34m'^'\u001b[0m\u001b[0;34m,\u001b[0m \u001b[0;34m'<'\u001b[0m\u001b[0;34m,\u001b[0m \u001b[0;34m'h'\u001b[0m\u001b[0;34m,\u001b[0m \u001b[0;34m'>'\u001b[0m\u001b[0;34m,\u001b[0m \u001b[0;34m'd'\u001b[0m\u001b[0;34m,\u001b[0m \u001b[0;34m'X'\u001b[0m\u001b[0;34m,\u001b[0m \u001b[0;34m'v'\u001b[0m\u001b[0;34m,\u001b[0m \u001b[0;34m'h'\u001b[0m\u001b[0;34m,\u001b[0m \u001b[0;34m'1'\u001b[0m\u001b[0;34m]\u001b[0m\u001b[0;34m\u001b[0m\u001b[0;34m\u001b[0m\u001b[0m\n\u001b[1;32m      4\u001b[0m \u001b[0mcolors\u001b[0m \u001b[0;34m=\u001b[0m \u001b[0;34m[\u001b[0m\u001b[0;34m'C0'\u001b[0m\u001b[0;34m,\u001b[0m \u001b[0;34m'C1'\u001b[0m\u001b[0;34m,\u001b[0m\u001b[0;34m'C2'\u001b[0m\u001b[0;34m,\u001b[0m \u001b[0;34m'C3'\u001b[0m\u001b[0;34m,\u001b[0m \u001b[0;34m'C4'\u001b[0m\u001b[0;34m,\u001b[0m \u001b[0;34m'C6'\u001b[0m\u001b[0;34m,\u001b[0m \u001b[0;34m'C5'\u001b[0m\u001b[0;34m,\u001b[0m \u001b[0;34m'C7'\u001b[0m\u001b[0;34m,\u001b[0m \u001b[0;34m'C8'\u001b[0m\u001b[0;34m,\u001b[0m \u001b[0;34m'C9'\u001b[0m\u001b[0;34m,\u001b[0m \u001b[0;34m'C10'\u001b[0m\u001b[0;34m,\u001b[0m \u001b[0;34m'C11'\u001b[0m\u001b[0;34m,\u001b[0m \u001b[0;34m'C12'\u001b[0m\u001b[0;34m,\u001b[0m \u001b[0;34m'C13'\u001b[0m\u001b[0;34m]\u001b[0m\u001b[0;34m\u001b[0m\u001b[0;34m\u001b[0m\u001b[0m\n\u001b[1;32m      5\u001b[0m \u001b[0;34m\u001b[0m\u001b[0m\n",
      "\u001b[0;31mIndexError\u001b[0m: list index out of range"
     ]
    }
   ],
   "source": [
    "files = [files[2]]\n",
    "obs = 'f'\n",
    "markers = ['o', 's', 'D', '*', 'x', '^', '<', 'h', '>', 'd', 'X', 'v', 'h', '1']\n",
    "colors = ['C0', 'C1','C2', 'C3', 'C4', 'C6', 'C5', 'C7', 'C8', 'C9', 'C10', 'C11', 'C12', 'C13']\n",
    "\n",
    "\n",
    "fig = plt.figure(figsize=(15,10))\n",
    "ax = plt.gca()\n",
    "for f, marker, color in zip(files, markers, colors):\n",
    "    n, dim, rs, T, s, fd, fh1, fh2, wd, wh1, wh2, b, a, lr, decay, eta, maxnorm, Nf, clip, K, w = parse_filename(f)\n",
    "  \n",
    "    print (f)\n",
    "    df = pd.read_csv(f, delimiter=r\"\\s+\")\n",
    "    label = r'$n=%s,dim=%s,r_s=%s,T=%g,s=%s,fd=%s,fh_1=%s,fh_2=%s,wd=%s,wh_1=%s,wh_2=%s,Nf=%s,K=%s,b=%sx%s,lr=%s,decay=%s,eta=%s,nrm=%s,clip=%s, walkers=%s$'\\\n",
    "                %(n,dim,rs,T,s,fd,fh1,fh2,wd,wh1,wh2,Nf,K,b,a,lr,decay,eta,maxnorm,clip,w)\n",
    "  \n",
    "    if obs == 'vtot':\n",
    "        y = df['vpp'].values + df['vep'].values + df['vee'].values\n",
    "        yerr = np.sqrt(df['vpp_err'].values**2 + df['vep_err'].values**2 + df['vee_err'].values**2)       \n",
    "    elif obs == 'etot':\n",
    "        y = df['e'].values + df['vpp'].values\n",
    "        yerr = np.sqrt(df['e_err'].values**2 + df['vpp_err'].values**2)\n",
    "    elif obs in ['acc_s', 'acc_x']:\n",
    "        y = df[obs].values\n",
    "        yerr = np.zeros_like(y)\n",
    "    else:\n",
    "        y, yerr = df[obs].values, df[obs+'_err'].values\n",
    "        \n",
    "    ax.errorbar(df['epoch'].values, y, yerr=yerr,\n",
    "                 marker=marker, color=color,markerfacecolor='none', \n",
    "                 markeredgewidth=2, ms=8, capsize=8, label=label)\n",
    "\n",
    "    try:\n",
    "        ref_value = ref_df.query('(T==%g) & (rs==%g)'%(T, rs))[obs].values[0]\n",
    "        if obs in ['etot', 'k', 'vtot']: ref_value = 2*ref_value \n",
    "        plt.axhline(y=ref_value, color='r')\n",
    "                \n",
    "    except KeyError or IndexError:\n",
    "        print ('no ref data')\n",
    "        \n",
    "    #if obs == 'p': plt.ylim([100, 400])\n",
    "    #if obs in ['f', 'etot', 'e', 'vtot']: plt.ylim([1, 2])\n",
    "    \n",
    "    \n",
    "    path = os.path.dirname(f)\n",
    "    ckpt_files = [os.path.join(path, f) for f in os.listdir(path) if ('pkl' in f)]\n",
    "    ckpt_files = natural_sort(ckpt_files)\n",
    "    skips = len(ckpt_files)//4\n",
    "    \n",
    "    for offset, ckpt_file in enumerate(ckpt_files[::skips]):\n",
    "        if ckpt_file is None: continue\n",
    "        print (ckpt_file)\n",
    "        data = load_data(ckpt_file)\n",
    "        epoch = int(re.search('epoch_([0-9]*).pkl', ckpt_file).group(1))\n",
    "    \n",
    "        s, x = data['s'], data['x']\n",
    "        \n",
    "        n, dim = x.shape[-2], x.shape[-1]\n",
    "        s = s.reshape(-1, n, dim)\n",
    "        x = x.reshape(-1, n, dim)\n",
    "        \n",
    "        walkersize, batchsize = s.shape[0], x.shape[0]\n",
    "        if (walkersize != batchsize):\n",
    "            s = jnp.repeat(s, batchsize//walkersize, 0)\n",
    "\n",
    "        \n",
    "        #rmesh, gr = get_gr(x, x)\n",
    "        \n",
    "        rmesh, gr = get_gr(s, s)\n",
    "        left, bottom, width, height = [0.25+offset*0.13, 0.6, 0.1, 0.15]\n",
    "        inset = fig.add_axes([left, bottom, width, height])\n",
    "        inset.plot(rmesh, gr, 'y')\n",
    "        inset.set_ylim([0, 2])\n",
    "        plt.title(r'epoch = %g'%(epoch))\n",
    "        if offset ==0: inset.set_ylabel('$g_{pp}(r)$')\n",
    "        \n",
    "        rmesh, gr = get_gr(s, x)\n",
    "        left, bottom, width, height = [0.25+offset*0.13, 0.4, 0.1, 0.15]\n",
    "        inset = fig.add_axes([left, bottom, width, height])\n",
    "        inset.plot(rmesh, gr, 'r')\n",
    "        inset.set_ylim([0, 8])\n",
    "        if offset ==0: inset.set_ylabel('$g_{ep}(r)$')\n",
    "        \n",
    "        \n",
    "ax.set_ylabel(obs)\n",
    "ax.set_xlabel('epochs')\n",
    "#plt.xlim([1, 1e5])\n",
    "#plt.xscale('log') \n",
    "#plt.legend(loc='best')\n",
    "#plt.ylim([-5, 5])"
   ]
  },
  {
   "cell_type": "code",
   "execution_count": null,
   "metadata": {},
   "outputs": [],
   "source": [
    "f = files[0]\n",
    "n, dim, rs, T, s, fd, fh1, fh2, wd, wh1, wh2, b, a, lr, decay, eta, maxnorm, Nf, clip, K, w = parse_filename(f)\n",
    "  \n",
    "ckpt_file, _ = find_ckpt_filename(os.path.dirname(f))\n",
    "\n",
    "print (ckpt_file)\n",
    "data = load_data(ckpt_file)\n",
    "    \n",
    "s, x = data['s'], data['x']\n",
    "n, dim = x.shape[-2], x.shape[-1]\n",
    "s = s.reshape(-1, n, dim)\n",
    "x = x.reshape(-1, n, dim)\n",
    "\n",
    "L = (4/3*np.pi*n)**(1/3)\n",
    "s = s - L*np.floor(s/L)\n",
    "x = x - L*np.floor(x/L)\n",
    "\n",
    "fig = plt.figure(figsize=(16, 8))\n",
    "ax = fig.add_subplot(projection='3d')\n",
    "\n",
    "b = 100\n",
    "\n",
    "ax.scatter(s[b, :, 0], s[b, :, 1], s[b, :, 2], marker='o', color='k', s=200)\n",
    "ax.scatter(x[b, :n//2, 0], x[b, :n//2, 1], x[b, :n//2, 2], marker='o', color='r', s=100)\n",
    "ax.scatter(x[b, n//2:, 0], x[b, n//2:, 1], x[b, n//2:, 2], marker='o', color='b', s=100)"
   ]
  },
  {
   "cell_type": "code",
   "execution_count": 5390,
   "metadata": {},
   "outputs": [
    {
     "data": {
      "text/plain": [
       "[<matplotlib.lines.Line2D at 0x2aaf612e8d00>]"
      ]
     },
     "execution_count": 5390,
     "metadata": {},
     "output_type": "execute_result"
    },
    {
     "data": {
      "image/png": "[encoded data removed]",
      "text/plain": [
       "<Figure size 432x288 with 1 Axes>"
      ]
     },
     "metadata": {
      "needs_background": "light"
     },
     "output_type": "display_data"
    }
   ],
   "source": [
    "def gc(r):\n",
    "     return (np.tanh(-4*(r-1.5))+1)/2\n",
    "plt.plot(rmesh, gc(rmesh))"
   ]
  },
  {
   "cell_type": "code",
   "execution_count": 3943,
   "metadata": {},
   "outputs": [
    {
     "name": "stdout",
     "output_type": "stream",
     "text": [
      "/data/wanglei/hydrogen/jastrow-tabc-soft/n_54_dim_3_rs_1.34_T_1200_steps_1_depth_3_spsize_32_tpsize_16_Nf_5_K_4_Gmax_15_kappa_10_mctherm_10_mcsteps_100_100_mcwidth_0.01_0.03_lr_0.01_decay_0.01_damping_0.001_norm_0.001_clip_5_bs_256_devices_8_accsteps_8/epoch_000354.pkl\n",
      "1.34 0.7525673436291141\n",
      "/data/wanglei/hydrogen/jastrow-tabc/n_54_dim_3_rs_1.34_T_1200_steps_1_depth_3_spsize_32_tpsize_16_Nf_5_K_4_Gmax_15_kappa_10_mctherm_10_mcsteps_100_mcstddev_0.02_lr_0.01_decay_0.01_damping_0.001_norm_0.001_clip_5_bs_128_devices_4_accsteps_8/epoch_002424.pkl\n",
      "1.34 0.490605326245736\n"
     ]
    }
   ],
   "source": [
    "for f in files:\n",
    "    \n",
    "    n, dim, rs, T, s, d, h1, h2, b, a, lr, decay, eta, maxnorm, Nf, clip, K = parse_filename(f)\n",
    "    \n",
    "    ckpt_file, _ = find_ckpt_filename(os.path.dirname(f))\n",
    "\n",
    "    print (ckpt_file)\n",
    "    data = load_data(ckpt_file)\n",
    "    \n",
    "    s, x = data['s'], data['x']\n",
    "\n",
    "    n, dim = x.shape[-2], x.shape[-1]\n",
    "    s = s.reshape(-1, n, dim)\n",
    "    x = x.reshape(-1, n, dim)\n",
    "    batchsize = x.shape[0]\n",
    "    \n",
    "    rij = (np.reshape(s, (-1, n, 1, dim)) - np.reshape(s, (-1, 1, n, dim)))\n",
    "    rij = rij - L*np.rint(rij/L)\n",
    "    r = np.linalg.norm(rij, axis=-1)\n",
    "    r = r + 1e10*np.eye(n, n)[None, ...]\n",
    "\n",
    "    print (rs, np.mean(gc(rs*np.min(r, axis=-1))))"
   ]
  },
  {
   "cell_type": "code",
   "execution_count": 35,
   "metadata": {},
   "outputs": [
    {
     "name": "stdout",
     "output_type": "stream",
     "text": [
      "6.092947785379555\n"
     ]
    },
    {
     "data": {
      "text/plain": [
       "[<matplotlib.lines.Line2D at 0x2aab3070afa0>]"
      ]
     },
     "execution_count": 35,
     "metadata": {},
     "output_type": "execute_result"
    },
    {
     "data": {
      "image/png": "[encoded data removed]",
      "text/plain": [
       "<Figure size 432x288 with 1 Axes>"
      ]
     },
     "metadata": {
      "needs_background": "light"
     },
     "output_type": "display_data"
    }
   ],
   "source": [
    "rs = 1.0\n",
    "n = 54 \n",
    "L = (4/3*np.pi*n)**(1/3)\n",
    "print (L)\n",
    "\n",
    "p = jnp.array([-1.0, 2.867, -5.819, -9.935, 4.456])\n",
    "q = jnp.array([1.0, -3.005, 7.81, 2.104, 0.4839])\n",
    "\n",
    "r = jnp.linspace(0.2, L, 100)\n",
    "v = jnp.polyval(p, r*rs)/ jnp.polyval(q, r*rs)*2\n",
    "plt.plot(r, v)\n",
    "\n",
    "#epsilon = 2*0.18 \n",
    "#sigma = 1.4/rs/(2**(1/6)) \n",
    "#v = 4*epsilon*((sigma/r)**12 - (sigma/r)**6) -2 \n",
    "#plt.plot(r, v)\n",
    "\n",
    "#plt.plot(r, np.exp(-rs*r))"
   ]
  },
  {
   "cell_type": "code",
   "execution_count": 157,
   "metadata": {},
   "outputs": [
    {
     "data": {
      "image/png": "[encoded data removed]",
      "text/plain": [
       "<Figure size 432x288 with 1 Axes>"
      ]
     },
     "metadata": {
      "needs_background": "light"
     },
     "output_type": "display_data"
    }
   ],
   "source": [
    "def softcore(r, eta=1, alpha=10, sigma = 1, epsilon = 1):\n",
    "    #return eta**4*4*epsilon*(1/(alpha*(1-eta)**2 + (r/sigma)**6)**2 - 1/(alpha*(1-eta)**2 + (r/sigma)**6))\n",
    "    return 4*epsilon * (sigma/r)**9 *100\n",
    "    #return np.exp(-r)\n",
    "    #return np.log(1+np.exp(alpha*(1-r)))\n",
    "r = jnp.linspace(0.5, 4, 100)   \n",
    "plt.plot(r, softcore(r))\n",
    "plt.yscale('log')\n",
    "#plt.plot(r, np.exp(-r)*100)"
   ]
  },
  {
   "cell_type": "code",
   "execution_count": 66,
   "metadata": {},
   "outputs": [],
   "source": [
    "import sys\n",
    "sys.path.append(\"../src/\")"
   ]
  },
  {
   "cell_type": "code",
   "execution_count": 67,
   "metadata": {},
   "outputs": [],
   "source": [
    "from sampler import make_base\n",
    "from mcmc import mcmc \n",
    "from utils import shard "
   ]
  },
  {
   "cell_type": "code",
   "execution_count": 1915,
   "metadata": {},
   "outputs": [],
   "source": [
    "def test_mcmc(rs):\n",
    "    beta = 157888.088922572/1000\n",
    "    print ('beta', beta)\n",
    "    n = 14\n",
    "    dim = 3\n",
    "    batchsize = 1024\n",
    "    \n",
    "    mc_therm = 10\n",
    "    mc_steps = 100\n",
    "    mc_width = 0.02\n",
    "    L = (4/3*jnp.pi*n)**(1/3)\n",
    "    \n",
    "    import math \n",
    "    import itertools\n",
    "    def cubic_init(n,spacing):\n",
    "        K = math.ceil(n**(1 / 3))\n",
    "        x = np.linspace(0, K * spacing, K, endpoint=False)\n",
    "        position = list(itertools.product(x, repeat=3))\n",
    "        return np.array(position[:n])\n",
    "    \n",
    "    def mean_dist(z):\n",
    "        z = z - L * jnp.floor(z/L)\n",
    "        i, j = jnp.triu_indices(n, k=1)\n",
    "        rij = (jnp.reshape(z, (n, 1, dim)) - jnp.reshape(z, (1, n, dim)))[i, j]\n",
    "        r = jnp.linalg.norm(rij, axis=-1)\n",
    "        return jnp.mean(r)\n",
    "\n",
    "    logprob = make_base(n, dim, L, beta, rs)\n",
    "    logprob = jax.vmap(logprob)\n",
    "\n",
    "    key = jax.random.PRNGKey(42)\n",
    "        \n",
    "    num_devices = jax.device_count()\n",
    "    if batchsize % num_devices != 0:\n",
    "        raise ValueError(\"Batch size must be divisible by the number of GPU devices. \"\n",
    "                         \"Got batch = %d for %d devices now.\" % (args.batch, num_devices))\n",
    "    batch_per_device = batchsize // num_devices\n",
    "\n",
    "    s = jax.random.uniform(key, (num_devices, batch_per_device, n, dim), minval=0, maxval=10)\n",
    "\n",
    "    #s = cubic_init(n, 1.4/rs) # (n, dim)\n",
    "    #s = s[None, None, :, :] + 0.1*jax.random.normal(key, (num_devices, batch_per_device, n, dim)) \n",
    "    #s -= L * jnp.floor(s/L)\n",
    "    \n",
    "    keys = jax.random.split(key, num_devices)\n",
    "    s, keys = shard(s), shard(keys)\n",
    "    \n",
    "    mcmc_p = jax.pmap(mcmc, axis_name=\"p\", in_axes=(None, 0, 0, None, None), static_broadcasted_argnums=(0,))\n",
    "    \n",
    "    for i in range(mc_therm):\n",
    "\n",
    "        rmesh, gr = get_gr(s.reshape(-1, n, dim), s.reshape(-1, n, dim))\n",
    "        plt.plot(rmesh, gr)\n",
    "        \n",
    "        display.clear_output(wait=True)\n",
    "        display.display(plt.gcf())\n",
    "        time.sleep(0.1)\n",
    "        \n",
    "        s, acc_rate = mcmc_p(logprob, s, keys, mc_steps, mc_width) \n",
    "        s -= L * jnp.floor(s/L)\n",
    "        r_mean = jnp.mean(jax.vmap(mean_dist)(s.reshape(batchsize, n, dim)))\n",
    "        print (i, acc_rate, r_mean, -logprob(s.reshape(batchsize, n, dim)).mean()/n)\n",
    "        "
   ]
  },
  {
   "cell_type": "code",
   "execution_count": 1916,
   "metadata": {},
   "outputs": [
    {
     "data": {
      "image/png": "[encoded data removed]",
      "text/plain": [
       "<Figure size 432x288 with 1 Axes>"
      ]
     },
     "metadata": {},
     "output_type": "display_data"
    },
    {
     "name": "stdout",
     "output_type": "stream",
     "text": [
      "9 [0.96082031] 2.5840263305435616 0.277223030845644\n"
     ]
    },
    {
     "data": {
      "image/png": "[encoded data removed]",
      "text/plain": [
       "<Figure size 432x288 with 1 Axes>"
      ]
     },
     "metadata": {
      "needs_background": "light"
     },
     "output_type": "display_data"
    }
   ],
   "source": [
    "test_mcmc(rs = 1.44)"
   ]
  },
  {
   "cell_type": "code",
   "execution_count": null,
   "metadata": {},
   "outputs": [],
   "source": []
  }
 ],
 "metadata": {
  "kernelspec": {
   "display_name": "Python 3 (ipykernel)",
   "language": "python",
   "name": "python3"
  },
  "language_info": {
   "codemirror_mode": {
    "name": "ipython",
    "version": 3
   },
   "file_extension": ".py",
   "mimetype": "text/x-python",
   "name": "python",
   "nbconvert_exporter": "python",
   "pygments_lexer": "ipython3",
   "version": "3.9.7"
  }
 },
 "nbformat": 4,
 "nbformat_minor": 4
}
