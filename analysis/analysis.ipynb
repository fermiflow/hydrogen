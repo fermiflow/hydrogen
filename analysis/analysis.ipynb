{
 "cells": [
  {
   "cell_type": "code",
   "execution_count": 1093,
   "metadata": {},
   "outputs": [],
   "source": [
    "%matplotlib inline\n",
    "import matplotlib.pyplot as plt\n",
    "import numpy as np\n",
    "from glob import glob\n",
    "import os\n",
    "\n",
    "from parser import parse_filename, natural_sort\n",
    "import pandas as pd"
   ]
  },
  {
   "cell_type": "code",
   "execution_count": 1094,
   "metadata": {},
   "outputs": [
    {
     "data": {
      "text/html": [
       "<div>\n",
       "<style scoped>\n",
       "    .dataframe tbody tr th:only-of-type {\n",
       "        vertical-align: middle;\n",
       "    }\n",
       "\n",
       "    .dataframe tbody tr th {\n",
       "        vertical-align: top;\n",
       "    }\n",
       "\n",
       "    .dataframe thead th {\n",
       "        text-align: right;\n",
       "    }\n",
       "</style>\n",
       "<table border=\"1\" class=\"dataframe\">\n",
       "  <thead>\n",
       "    <tr style=\"text-align: right;\">\n",
       "      <th></th>\n",
       "      <th>T</th>\n",
       "      <th>rs</th>\n",
       "      <th>etot</th>\n",
       "      <th>p</th>\n",
       "    </tr>\n",
       "  </thead>\n",
       "  <tbody>\n",
       "    <tr>\n",
       "      <th>0</th>\n",
       "      <td>1200</td>\n",
       "      <td>1.34</td>\n",
       "      <td>-0.51592</td>\n",
       "      <td>269.0</td>\n",
       "    </tr>\n",
       "    <tr>\n",
       "      <th>1</th>\n",
       "      <td>1200</td>\n",
       "      <td>1.35</td>\n",
       "      <td>-0.51813</td>\n",
       "      <td>257.7</td>\n",
       "    </tr>\n",
       "    <tr>\n",
       "      <th>2</th>\n",
       "      <td>1200</td>\n",
       "      <td>1.36</td>\n",
       "      <td>-0.51980</td>\n",
       "      <td>243.1</td>\n",
       "    </tr>\n",
       "    <tr>\n",
       "      <th>3</th>\n",
       "      <td>1200</td>\n",
       "      <td>1.37</td>\n",
       "      <td>-0.52200</td>\n",
       "      <td>232.5</td>\n",
       "    </tr>\n",
       "    <tr>\n",
       "      <th>4</th>\n",
       "      <td>1200</td>\n",
       "      <td>1.38</td>\n",
       "      <td>-0.52560</td>\n",
       "      <td>234.1</td>\n",
       "    </tr>\n",
       "    <tr>\n",
       "      <th>5</th>\n",
       "      <td>1200</td>\n",
       "      <td>1.39</td>\n",
       "      <td>-0.52700</td>\n",
       "      <td>224.0</td>\n",
       "    </tr>\n",
       "    <tr>\n",
       "      <th>6</th>\n",
       "      <td>1200</td>\n",
       "      <td>1.40</td>\n",
       "      <td>-0.53010</td>\n",
       "      <td>218.5</td>\n",
       "    </tr>\n",
       "    <tr>\n",
       "      <th>7</th>\n",
       "      <td>1200</td>\n",
       "      <td>1.41</td>\n",
       "      <td>-0.53175</td>\n",
       "      <td>206.9</td>\n",
       "    </tr>\n",
       "    <tr>\n",
       "      <th>8</th>\n",
       "      <td>1200</td>\n",
       "      <td>1.42</td>\n",
       "      <td>-0.53353</td>\n",
       "      <td>198.5</td>\n",
       "    </tr>\n",
       "    <tr>\n",
       "      <th>9</th>\n",
       "      <td>1200</td>\n",
       "      <td>1.43</td>\n",
       "      <td>-0.53540</td>\n",
       "      <td>189.5</td>\n",
       "    </tr>\n",
       "    <tr>\n",
       "      <th>10</th>\n",
       "      <td>1200</td>\n",
       "      <td>1.44</td>\n",
       "      <td>-0.53684</td>\n",
       "      <td>180.8</td>\n",
       "    </tr>\n",
       "    <tr>\n",
       "      <th>11</th>\n",
       "      <td>1500</td>\n",
       "      <td>1.40</td>\n",
       "      <td>-0.52450</td>\n",
       "      <td>198.7</td>\n",
       "    </tr>\n",
       "    <tr>\n",
       "      <th>12</th>\n",
       "      <td>1000</td>\n",
       "      <td>1.00</td>\n",
       "      <td>-0.34800</td>\n",
       "      <td>1968.0</td>\n",
       "    </tr>\n",
       "  </tbody>\n",
       "</table>\n",
       "</div>"
      ],
      "text/plain": [
       "       T    rs     etot       p\n",
       "0   1200  1.34 -0.51592   269.0\n",
       "1   1200  1.35 -0.51813   257.7\n",
       "2   1200  1.36 -0.51980   243.1\n",
       "3   1200  1.37 -0.52200   232.5\n",
       "4   1200  1.38 -0.52560   234.1\n",
       "5   1200  1.39 -0.52700   224.0\n",
       "6   1200  1.40 -0.53010   218.5\n",
       "7   1200  1.41 -0.53175   206.9\n",
       "8   1200  1.42 -0.53353   198.5\n",
       "9   1200  1.43 -0.53540   189.5\n",
       "10  1200  1.44 -0.53684   180.8\n",
       "11  1500  1.40 -0.52450   198.7\n",
       "12  1000  1.00 -0.34800  1968.0"
      ]
     },
     "execution_count": 1094,
     "metadata": {},
     "output_type": "execute_result"
    }
   ],
   "source": [
    "ref_file = '/home/wanglei/hydrogen/analysis/refs/pnas2016.csv'\n",
    "ref_df = pd.read_csv(ref_file, delimiter=r\"\\s+\")\n",
    "ref_df"
   ]
  },
  {
   "cell_type": "code",
   "execution_count": 1208,
   "metadata": {},
   "outputs": [
    {
     "data": {
      "text/plain": [
       "2"
      ]
     },
     "execution_count": 1208,
     "metadata": {},
     "output_type": "execute_result"
    }
   ],
   "source": [
    "T, rs = 1500, 1.4\n",
    "nicknames = ['jastrow', 'no-jastrow'] #, #, 'atom-positive-alpha', ] #'atom-exp-alpha'] #, #, 'atom-equivariant'] # 'atom']\n",
    "files = []\n",
    "for nickname in nicknames:\n",
    "    files += glob(\"/data/wanglei/hydrogen/\"+nickname+\"/n_*_dim_3_rs_%g*_T_%g_*depth_*spsize_*tpsize_*mcsteps_*lr_*/data.txt\"%(rs, T))\n",
    "files = list(filter(lambda f: os.path.getsize(f)>100, files))\n",
    "files = natural_sort(files)\n",
    "len(files)"
   ]
  },
  {
   "cell_type": "code",
   "execution_count": 1204,
   "metadata": {},
   "outputs": [
    {
     "data": {
      "text/plain": [
       "3"
      ]
     },
     "execution_count": 1204,
     "metadata": {},
     "output_type": "execute_result"
    }
   ],
   "source": [
    "def cond(f):\n",
    "    n, dim, rs, T, s, d, h1, h2, b, a, lr, decay, eta, maxnorm, Nf, clip, K = parse_filename(f)\n",
    "    return b < 8192 and ('_ht_' not in f) and rs <1.46 \n",
    "files = list(filter(cond , files))\n",
    "len(files)"
   ]
  },
  {
   "cell_type": "code",
   "execution_count": 1207,
   "metadata": {},
   "outputs": [
    {
     "name": "stdout",
     "output_type": "stream",
     "text": [
      "/data/wanglei/hydrogen/jastrow/n_14_dim_3_rs_1.4_T_1500_steps_1_depth_3_spsize_32_tpsize_16_Nf_5_K_4_Gmax_15_kappa_10_mctherm_10_mcsteps_50_mcstddev_0.05_lr_0.1_decay_0.01_damping_0.001_norm_0.001_clip_5_bs_1024_devices_1_accsteps_1/data.txt\n",
      "/data/wanglei/hydrogen/no-jastrow/n_14_dim_3_rs_1.4_T_1500_steps_1_depth_3_spsize_32_tpsize_16_Nf_5_K_4_Gmax_15_kappa_10_mctherm_10_mcsteps_50_mcstddev_0.05_lr_0.1_decay_0.01_damping_0.001_norm_0.001_clip_5_bs_1024_devices_1_accsteps_1/data.txt\n",
      "/data/wanglei/hydrogen/no-pw/n_14_dim_3_rs_1.4_T_1500_steps_1_depth_3_spsize_32_tpsize_16_Nf_5_K_4_Gmax_15_kappa_10_mctherm_10_mcsteps_50_mcstddev_0.05_lr_0.1_decay_0.01_damping_0.001_norm_0.001_clip_5_bs_1024_devices_1_accsteps_1/data.txt\n"
     ]
    },
    {
     "data": {
      "image/png": "[encoded data removed]",
      "text/plain": [
       "<Figure size 1080x720 with 1 Axes>"
      ]
     },
     "metadata": {
      "needs_background": "light"
     },
     "output_type": "display_data"
    }
   ],
   "source": [
    "obs = 'etot'\n",
    "\n",
    "markers = ['o', 's', 'D', '*', 'x', '^', '<', 'h', '>', 'd', 'X', 'v', 'h', '1']\n",
    "colors = ['C2', 'C1','C0', 'C3', 'C4', 'C6', 'C5', 'C7', 'C8', 'C9', 'C10', 'C11', 'C12', 'C13']\n",
    "\n",
    "plt.figure(figsize=(15,10))\n",
    "for f, marker, color in zip(files, markers, colors):\n",
    "    n, dim, rs, T, s, d, h1, h2, b, a, lr, decay, eta, maxnorm, Nf, clip, K = parse_filename(f)\n",
    "  \n",
    "    print (f)\n",
    "    df = pd.read_csv(f, delimiter=r\"\\s+\")\n",
    "    label = r'$n=%s,dim=%s,r_s=%s,T=%g,s=%s,d=%s,h_1=%s,h_2=%s,Nf=%s,K=%s,b=%sx%s,lr=%s,decay=%s,eta=%s,nrm=%s,clip=%s$'\\\n",
    "                %(n,dim,rs,T,s,d,h1,h2,Nf,K,b,a,lr,decay,eta,maxnorm,clip)\n",
    "  \n",
    "    if obs == 'vtot':\n",
    "        y = df['vpp'].values + df['vep'].values + df['vee'].values\n",
    "        yerr = np.sqrt(df['vpp_err'].values**2 + df['vep_err'].values**2 + df['vee_err'].values**2)       \n",
    "    elif obs == 'etot':\n",
    "        y = df['e'].values + df['vpp'].values\n",
    "        yerr = np.sqrt(df['e_err'].values**2 + df['vpp_err'].values**2)\n",
    "    elif obs in ['acc_s', 'acc_x']:\n",
    "        y = df[obs].values\n",
    "        yerr = np.zeros_like(y)\n",
    "    else:\n",
    "        y, yerr = df[obs].values, df[obs+'_err'].values\n",
    "        \n",
    "    plt.errorbar(df['epoch'].values, y, yerr=yerr,\n",
    "                 marker=marker, color=color,markerfacecolor='none', \n",
    "                 markeredgewidth=2, ms=8, capsize=8, label=label)\n",
    " \n",
    "    if obs in ['etot', 'p']:\n",
    "        ref_value = ref_df.query('(T==%g) & (rs==%g)'%(T, rs))[obs].values[0]\n",
    "        if obs == 'etot': ref_value = 2*ref_value \n",
    "        plt.axhline(y=ref_value, color='r')\n",
    "        \n",
    "    if obs == 'p': plt.ylim([0, 500])\n",
    "    if obs in ['f', 'etot', 'e']: plt.ylim([-2, 1])\n",
    "\n",
    "    \n",
    "plt.legend(loc='upper right')\n",
    "plt.ylabel(obs)\n",
    "plt.xlabel('epochs')\n",
    "plt.xlim([1, 1e5])\n",
    "plt.xscale('log') \n",
    "#plt.ylim([0, 2])"
   ]
  },
  {
   "cell_type": "code",
   "execution_count": null,
   "metadata": {},
   "outputs": [],
   "source": []
  }
 ],
 "metadata": {
  "kernelspec": {
   "display_name": "Python 3 (ipykernel)",
   "language": "python",
   "name": "python3"
  },
  "language_info": {
   "codemirror_mode": {
    "name": "ipython",
    "version": 3
   },
   "file_extension": ".py",
   "mimetype": "text/x-python",
   "name": "python",
   "nbconvert_exporter": "python",
   "pygments_lexer": "ipython3",
   "version": "3.9.7"
  }
 },
 "nbformat": 4,
 "nbformat_minor": 4
}
